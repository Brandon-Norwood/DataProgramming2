{
 "cells": [
  {
   "cell_type": "markdown",
   "id": "06491110-2be9-4ad8-8fa0-038d2c06fff5",
   "metadata": {},
   "source": [
    "# Exercises\n",
    "\n",
    "## Describing objects\n",
    "\n",
    "Use the `dir()` function to list the available attributes for the *str*, *int*, and *float* objects"
   ]
  },
  {
   "cell_type": "code",
   "execution_count": 1,
   "id": "2fe8847d-b368-4061-a8f3-5a41f54a2d2b",
   "metadata": {},
   "outputs": [
    {
     "name": "stdout",
     "output_type": "stream",
     "text": [
      "['__add__', '__class__', '__contains__', '__delattr__', '__dir__', '__doc__', '__eq__', '__format__', '__ge__', '__getattribute__', '__getitem__', '__getnewargs__', '__gt__', '__hash__', '__init__', '__init_subclass__', '__iter__', '__le__', '__len__', '__lt__', '__mod__', '__mul__', '__ne__', '__new__', '__reduce__', '__reduce_ex__', '__repr__', '__rmod__', '__rmul__', '__setattr__', '__sizeof__', '__str__', '__subclasshook__', 'capitalize', 'casefold', 'center', 'count', 'encode', 'endswith', 'expandtabs', 'find', 'format', 'format_map', 'index', 'isalnum', 'isalpha', 'isascii', 'isdecimal', 'isdigit', 'isidentifier', 'islower', 'isnumeric', 'isprintable', 'isspace', 'istitle', 'isupper', 'join', 'ljust', 'lower', 'lstrip', 'maketrans', 'partition', 'replace', 'rfind', 'rindex', 'rjust', 'rpartition', 'rsplit', 'rstrip', 'split', 'splitlines', 'startswith', 'strip', 'swapcase', 'title', 'translate', 'upper', 'zfill']\n",
      "['__abs__', '__add__', '__and__', '__bool__', '__ceil__', '__class__', '__delattr__', '__dir__', '__divmod__', '__doc__', '__eq__', '__float__', '__floor__', '__floordiv__', '__format__', '__ge__', '__getattribute__', '__getnewargs__', '__gt__', '__hash__', '__index__', '__init__', '__init_subclass__', '__int__', '__invert__', '__le__', '__lshift__', '__lt__', '__mod__', '__mul__', '__ne__', '__neg__', '__new__', '__or__', '__pos__', '__pow__', '__radd__', '__rand__', '__rdivmod__', '__reduce__', '__reduce_ex__', '__repr__', '__rfloordiv__', '__rlshift__', '__rmod__', '__rmul__', '__ror__', '__round__', '__rpow__', '__rrshift__', '__rshift__', '__rsub__', '__rtruediv__', '__rxor__', '__setattr__', '__sizeof__', '__str__', '__sub__', '__subclasshook__', '__truediv__', '__trunc__', '__xor__', 'bit_length', 'conjugate', 'denominator', 'from_bytes', 'imag', 'numerator', 'real', 'to_bytes']\n",
      "['__abs__', '__add__', '__bool__', '__class__', '__delattr__', '__dir__', '__divmod__', '__doc__', '__eq__', '__float__', '__floordiv__', '__format__', '__ge__', '__getattribute__', '__getformat__', '__getnewargs__', '__gt__', '__hash__', '__init__', '__init_subclass__', '__int__', '__le__', '__lt__', '__mod__', '__mul__', '__ne__', '__neg__', '__new__', '__pos__', '__pow__', '__radd__', '__rdivmod__', '__reduce__', '__reduce_ex__', '__repr__', '__rfloordiv__', '__rmod__', '__rmul__', '__round__', '__rpow__', '__rsub__', '__rtruediv__', '__set_format__', '__setattr__', '__sizeof__', '__str__', '__sub__', '__subclasshook__', '__truediv__', '__trunc__', 'as_integer_ratio', 'conjugate', 'fromhex', 'hex', 'imag', 'is_integer', 'real']\n"
     ]
    }
   ],
   "source": [
    "str_attributes = dir(str)\n",
    "int_attributes = dir(int)\n",
    "float_attributes = dir(float)\n",
    "\n",
    "for attributes in (str_attributes, int_attributes, float_attributes):\n",
    "    print(attributes)"
   ]
  },
  {
   "cell_type": "markdown",
   "id": "f606751e-e4d3-4e37-ad44-c3a8c9eea8e2",
   "metadata": {},
   "source": [
    "## Object Attributes\n",
    "\n",
    "When you try to open a file that doesn't exist, Python throws an <a href=\"https://docs.python.org/3/library/exceptions.html#OSError\">OSError</a>, which contains the specific details of the error that ocurred.\n",
    "\n",
    "Write code to try to open a file that does not exist, catch the error that is thrown, and print the exception.\n",
    "\n",
    "Recreate the default error message using a `print()` statement, an <a href=\"https://realpython.com/python-f-strings/#f-strings-a-new-and-improved-way-to-format-strings-in-python\">f-string</a>, and the OSError object's attributes `filename`, `errno`, and `strerror`. Your printout must match the default printout character-for-character.\n",
    "\n",
    "Example oputput:\n",
    "<pre>\n",
    "[Errno 2] No such file or directory: 'who.me'\n",
    "</pre>"
   ]
  },
  {
   "cell_type": "code",
   "execution_count": 2,
   "id": "e009c34d-a945-4b10-abbe-6f9db7599908",
   "metadata": {},
   "outputs": [
    {
     "name": "stdout",
     "output_type": "stream",
     "text": [
      "[Errno 2] No such file or directory: 'who.me'\n"
     ]
    }
   ],
   "source": [
    "# Excuse me WHAT?!\n",
    "\n",
    "try:\n",
    "    fHandle = open(r'who.me')\n",
    "except (OSError) as error:\n",
    "    filename = error.filename\n",
    "    error_num = error.errno\n",
    "    str_error = error.strerror\n",
    "    print(f\"[Errno {error_num}] {str_error}: '{filename}'\")"
   ]
  },
  {
   "cell_type": "markdown",
   "id": "96b89df5-34a4-4e4a-8e04-d97a722ce11e",
   "metadata": {},
   "source": [
    "## Object methods\n",
    "\n",
    "Python has a package called <a href=\"https://docs.python.org/3/library/urllib.request.html\">urllib</a> that contains a module named `request`. We're going to use that module to read and display the contents of an HTML file.\n",
    "\n",
    "Buckle up! I'm going to describe *exactly* the code you need to write for this one. But you need to fully understand the terminology of object-orient programming in Python to know *what* code to write.\n",
    "\n",
    "1. From the `urllib` package, import the module `request`\n",
    "2. Invoke the `urlopen()` method of the `request` class, passing in the string `'https://thackston.me/IT2431/tiny.html'` as the only parameter to the method.\n",
    "3. Assign the value returned by the `urlopen` method to a variable named `response`.\n",
    "4. Invoke the `read()` method of the `response` object and assign the value returned to a new variable named `binary_response`. \n",
    "\n",
    "*Note: the variable *binary_response* will now contain a *binary string* of characters. We need to convert this to a string of UTF-8 characters.\n",
    "\n",
    "5. Invoke the `decode()` method of the `binary_response` object, passing in the string `'UTF-8'` as the only parameter to the method.\n",
    "6. Assign the value returned by the `decode()` method to a variable named `html`.\n",
    "7. Invoke the `print()` function, passing in the `html` object as the only parameter.\n",
    "\n",
    "The output of your program will the be the raw HTML of a very short web page that displays the text \"*This is a tiny page.*\""
   ]
  },
  {
   "cell_type": "code",
   "execution_count": 3,
   "id": "99de60c4-0b78-4554-94a1-360e7483dc22",
   "metadata": {},
   "outputs": [
    {
     "name": "stdout",
     "output_type": "stream",
     "text": [
      "<!doctype html>\n",
      "<html lang=\"en\">\n",
      "<head>\n",
      "<title>Tiny HTML file</title>\n",
      "<meta charset=\"utf-8\">\n",
      "</head>\n",
      "<body>\n",
      "<p>This is a tiny page.</p>\n",
      "</body>\n",
      "</html>\n"
     ]
    }
   ],
   "source": [
    "import urllib.request\n",
    "\n",
    "response = urllib.request.urlopen('https://thackston.me/IT2431/tiny.html')\n",
    "binary_response = response.read()\n",
    "html = binary_response.decode('UTF-8')\n",
    "print(html)"
   ]
  },
  {
   "cell_type": "code",
   "execution_count": null,
   "id": "f809ba5a-1aca-4876-9b1a-daf2b4c0e214",
   "metadata": {},
   "outputs": [],
   "source": []
  }
 ],
 "metadata": {
  "kernelspec": {
   "display_name": "Python 3 (ipykernel)",
   "language": "python",
   "name": "python3"
  },
  "language_info": {
   "codemirror_mode": {
    "name": "ipython",
    "version": 3
   },
   "file_extension": ".py",
   "mimetype": "text/x-python",
   "name": "python",
   "nbconvert_exporter": "python",
   "pygments_lexer": "ipython3",
   "version": "3.7.3"
  }
 },
 "nbformat": 4,
 "nbformat_minor": 5
}
