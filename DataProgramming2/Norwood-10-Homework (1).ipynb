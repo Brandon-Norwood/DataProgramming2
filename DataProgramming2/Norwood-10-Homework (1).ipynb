{
 "cells": [
  {
   "cell_type": "markdown",
   "id": "b156a291-3e88-4f0f-81b7-18dbeb31d287",
   "metadata": {},
   "source": [
    "# Exercises"
   ]
  },
  {
   "cell_type": "markdown",
   "id": "f50ea7cf-0a79-4314-a87f-a667ff8611df",
   "metadata": {},
   "source": [
    "## Odd numbers\n",
    "\n",
    "Define a function *odd_numbers* which calculates the odd numbers within a range. The function must accept exactly one parameter, *number_range*, which is a tuple of two value (*start* and *end*). The function will calculate all the odd numbers between (and including) the start and end values, returning the two numbers as a tuple of zero or more items.\n",
    "\n",
    "Write a main program that will prompt the user to enter start and end values (two separate prompts), which get passed to the function and the results displayed. Be sure to handle any possible exceptions, such as converting the user input strings into numbers.\n",
    "\n",
    "### Example Input/Output\n",
    "<pre>\n",
    "<i>(input) --> (output)</i>\n",
    "(1,10) --> (1,3,5,7,9)\n",
    "(3,5) --> (3,5)\n",
    "(2,2) --> ()\n",
    "</pre>\n"
   ]
  },
  {
   "cell_type": "code",
   "execution_count": 5,
   "id": "f4c4688f-974a-4207-adc6-26a515f9f767",
   "metadata": {},
   "outputs": [
    {
     "name": "stdin",
     "output_type": "stream",
     "text": [
      "Please enter a starting number: 1\n",
      "Please enter an ending number: 10\n"
     ]
    },
    {
     "name": "stdout",
     "output_type": "stream",
     "text": [
      "(1, 3, 5, 7, 9)\n"
     ]
    }
   ],
   "source": [
    "def odd_numbers(number_range):\n",
    "    \n",
    "    start, end = number_range\n",
    "    \n",
    "    odd_num = []\n",
    "    \n",
    "    for num in range(start,end+1):\n",
    "        if num % 2 != 0:\n",
    "            odd_num.append(num)\n",
    "    \n",
    "    return tuple(odd_num)\n",
    "\n",
    "try:\n",
    "    start = int(input(\"Please enter a starting number:\"))\n",
    "    end = int(input(\"Please enter an ending number:\"))\n",
    "\n",
    "    number_range = (start, end)\n",
    "\n",
    "    odd_num = odd_numbers(number_range)\n",
    "    print(odd_num)\n",
    "except:\n",
    "    print(\"Just one numerical value for starting num and ending num please!\")"
   ]
  },
  {
   "cell_type": "markdown",
   "id": "38e0eb58-19fd-4ae2-b325-11ce0de9008e",
   "metadata": {},
   "source": [
    "## Distance function\n",
    "\n",
    "Define a function *midpoint* to calculate the midpoint between two points in a cartesian coordinate system. The function must accept exactly two parameters, *p1* and *p2*. Each of the parameters should be a tuple containing two decimal values. For example, the first point (tuple) might be `(1.0, 1.0)` and the second point `(3.0, 5.0)`. The function will determine the midpoint of the line defined by the two points using the <a href=\"https://www.mathsisfun.com/algebra/line-midpoint.html\" target=\"_blank\">midpoint formula</a>.\n",
    "\n",
    "Write a main program that will prompt the user to enter the two pairs of (x,y) coordinates, which get passed to the function and the results displayed. Be sure to handle any possible exceptions, such as converting the user input strings into numbers.\n",
    "\n",
    "### Sample input/output\n",
    "<pre>\n",
    "Enter the x,y coordinates of the first point: 1,1\n",
    "Enter the x,y coordinates of the second point: 3,5\n",
    "Midpoint: (2.0,3.0)\n",
    "</pre>"
   ]
  },
  {
   "cell_type": "code",
   "execution_count": 4,
   "id": "b590be55-5b97-4888-b9ef-8affb8901a8e",
   "metadata": {},
   "outputs": [
    {
     "name": "stdin",
     "output_type": "stream",
     "text": [
      "Enter the x,y coordinates of the first point: sdf\n",
      "Enter the x,y coordinates of the second point: sfd\n"
     ]
    },
    {
     "name": "stdout",
     "output_type": "stream",
     "text": [
      "You're Doing it Wrong! Enter coordinates using numerical values as x,y\n"
     ]
    }
   ],
   "source": [
    "def midpoint(p1, p2):\n",
    "    \n",
    "    x_one, y_one = p1\n",
    "    x_two, y_two = p2\n",
    "\n",
    "    x_one = int(x_one)\n",
    "    x_two = int(x_two)\n",
    "    y_one = int(y_one)\n",
    "    y_two = int(y_two)\n",
    "\n",
    "    midpoint = ((x_one+x_two)/2, (y_one+y_two)/2)\n",
    "\n",
    "    return midpoint\n",
    "\n",
    "p1 = input(\"Enter the x,y coordinates of the first point:\")\n",
    "p2 = input(\"Enter the x,y coordinates of the second point:\")\n",
    "\n",
    "p1 = p1.split(\",\")\n",
    "p1 = tuple(p1)\n",
    "p2 = p2.split(\",\")\n",
    "p2 = tuple(p2)\n",
    "\n",
    "try:\n",
    "    mid = midpoint(p1, p2)\n",
    "    print(f\"Midpoint: {mid}\")\n",
    "except:\n",
    "    print(\"You're Doing it Wrong! Enter coordinates using numerical values as x,y\")"
   ]
  },
  {
   "cell_type": "code",
   "execution_count": null,
   "id": "2a92d211-5432-45b5-a9db-02fedf08b1fc",
   "metadata": {},
   "outputs": [],
   "source": []
  }
 ],
 "metadata": {
  "kernelspec": {
   "display_name": "Python 3 (ipykernel)",
   "language": "python",
   "name": "python3"
  },
  "language_info": {
   "codemirror_mode": {
    "name": "ipython",
    "version": 3
   },
   "file_extension": ".py",
   "mimetype": "text/x-python",
   "name": "python",
   "nbconvert_exporter": "python",
   "pygments_lexer": "ipython3",
   "version": "3.7.3"
  }
 },
 "nbformat": 4,
 "nbformat_minor": 5
}
